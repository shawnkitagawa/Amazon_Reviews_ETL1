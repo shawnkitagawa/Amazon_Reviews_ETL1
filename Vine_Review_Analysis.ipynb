{
 "cells": [
  {
   "cell_type": "code",
   "execution_count": 3,
   "id": "7108239a",
   "metadata": {},
   "outputs": [
    {
     "data": {
      "text/html": [
       "<div>\n",
       "<style scoped>\n",
       "    .dataframe tbody tr th:only-of-type {\n",
       "        vertical-align: middle;\n",
       "    }\n",
       "\n",
       "    .dataframe tbody tr th {\n",
       "        vertical-align: top;\n",
       "    }\n",
       "\n",
       "    .dataframe thead th {\n",
       "        text-align: right;\n",
       "    }\n",
       "</style>\n",
       "<table border=\"1\" class=\"dataframe\">\n",
       "  <thead>\n",
       "    <tr style=\"text-align: right;\">\n",
       "      <th></th>\n",
       "      <th>review_id</th>\n",
       "      <th>star_rating</th>\n",
       "      <th>helpful_votes</th>\n",
       "      <th>total_votes</th>\n",
       "      <th>vine</th>\n",
       "      <th>verified_purchase</th>\n",
       "    </tr>\n",
       "  </thead>\n",
       "  <tbody>\n",
       "    <tr>\n",
       "      <th>0</th>\n",
       "      <td>R3P2HIOQCIN5ZU</td>\n",
       "      <td>1</td>\n",
       "      <td>0</td>\n",
       "      <td>0</td>\n",
       "      <td>N</td>\n",
       "      <td>Y</td>\n",
       "    </tr>\n",
       "    <tr>\n",
       "      <th>1</th>\n",
       "      <td>R12VVR0WH5Q24V</td>\n",
       "      <td>5</td>\n",
       "      <td>0</td>\n",
       "      <td>0</td>\n",
       "      <td>N</td>\n",
       "      <td>Y</td>\n",
       "    </tr>\n",
       "    <tr>\n",
       "      <th>2</th>\n",
       "      <td>RNCCKB6TV5EEF</td>\n",
       "      <td>4</td>\n",
       "      <td>0</td>\n",
       "      <td>0</td>\n",
       "      <td>N</td>\n",
       "      <td>Y</td>\n",
       "    </tr>\n",
       "    <tr>\n",
       "      <th>3</th>\n",
       "      <td>R2NZXYIVCGB13W</td>\n",
       "      <td>5</td>\n",
       "      <td>0</td>\n",
       "      <td>6</td>\n",
       "      <td>N</td>\n",
       "      <td>Y</td>\n",
       "    </tr>\n",
       "    <tr>\n",
       "      <th>4</th>\n",
       "      <td>R2EQ1TG9IT3OEQ</td>\n",
       "      <td>3</td>\n",
       "      <td>0</td>\n",
       "      <td>0</td>\n",
       "      <td>N</td>\n",
       "      <td>Y</td>\n",
       "    </tr>\n",
       "  </tbody>\n",
       "</table>\n",
       "</div>"
      ],
      "text/plain": [
       "        review_id  star_rating  helpful_votes  total_votes vine  \\\n",
       "0  R3P2HIOQCIN5ZU            1              0            0    N   \n",
       "1  R12VVR0WH5Q24V            5              0            0    N   \n",
       "2   RNCCKB6TV5EEF            4              0            0    N   \n",
       "3  R2NZXYIVCGB13W            5              0            6    N   \n",
       "4  R2EQ1TG9IT3OEQ            3              0            0    N   \n",
       "\n",
       "  verified_purchase  \n",
       "0                 Y  \n",
       "1                 Y  \n",
       "2                 Y  \n",
       "3                 Y  \n",
       "4                 Y  "
      ]
     },
     "execution_count": 3,
     "metadata": {},
     "output_type": "execute_result"
    }
   ],
   "source": [
    "import pandas as pd\n",
    "data = \"data/vine_table.csv\"\n",
    "df = pd.read_csv(data)\n",
    "df.head()"
   ]
  },
  {
   "cell_type": "code",
   "execution_count": 25,
   "id": "83232e2f",
   "metadata": {},
   "outputs": [
    {
     "data": {
      "text/plain": [
       "review_id            895\n",
       "star_rating          895\n",
       "helpful_votes        895\n",
       "total_votes          895\n",
       "vine                 895\n",
       "verified_purchase    895\n",
       "dtype: int64"
      ]
     },
     "execution_count": 25,
     "metadata": {},
     "output_type": "execute_result"
    }
   ],
   "source": [
    "df.loc[df[\"vine\"] == 'Y'].count()"
   ]
  },
  {
   "cell_type": "code",
   "execution_count": 26,
   "id": "690ded2f",
   "metadata": {},
   "outputs": [
    {
     "data": {
      "text/plain": [
       "review_id            4366021\n",
       "star_rating          4366021\n",
       "helpful_votes        4366021\n",
       "total_votes          4366021\n",
       "vine                 4366021\n",
       "verified_purchase    4366021\n",
       "dtype: int64"
      ]
     },
     "execution_count": 26,
     "metadata": {},
     "output_type": "execute_result"
    }
   ],
   "source": [
    "df.loc[df[\"vine\"] == 'N'].count()"
   ]
  },
  {
   "cell_type": "code",
   "execution_count": 29,
   "id": "f5b8a4a9",
   "metadata": {},
   "outputs": [
    {
     "data": {
      "text/plain": [
       "review_id            462\n",
       "star_rating          462\n",
       "helpful_votes        462\n",
       "total_votes          462\n",
       "vine                 462\n",
       "verified_purchase    462\n",
       "dtype: int64"
      ]
     },
     "execution_count": 29,
     "metadata": {},
     "output_type": "execute_result"
    }
   ],
   "source": [
    "df.loc[(df[\"vine\"] =='Y') &(df[\"star_rating\"] == 5)].count()"
   ]
  },
  {
   "cell_type": "code",
   "execution_count": 31,
   "id": "b94e38b8",
   "metadata": {},
   "outputs": [
    {
     "data": {
      "text/plain": [
       "review_id            2639473\n",
       "star_rating          2639473\n",
       "helpful_votes        2639473\n",
       "total_votes          2639473\n",
       "vine                 2639473\n",
       "verified_purchase    2639473\n",
       "dtype: int64"
      ]
     },
     "execution_count": 31,
     "metadata": {},
     "output_type": "execute_result"
    }
   ],
   "source": [
    "df.loc[(df[\"vine\"] == 'N') & (df[\"star_rating\"] == 5)].count()"
   ]
  },
  {
   "cell_type": "code",
   "execution_count": 4,
   "id": "d4c27135",
   "metadata": {},
   "outputs": [],
   "source": [
    "more_than_20 = df.loc[df[\"total_votes\"] >= 20]"
   ]
  },
  {
   "cell_type": "code",
   "execution_count": 6,
   "id": "08592cae",
   "metadata": {},
   "outputs": [
    {
     "data": {
      "text/html": [
       "<div>\n",
       "<style scoped>\n",
       "    .dataframe tbody tr th:only-of-type {\n",
       "        vertical-align: middle;\n",
       "    }\n",
       "\n",
       "    .dataframe tbody tr th {\n",
       "        vertical-align: top;\n",
       "    }\n",
       "\n",
       "    .dataframe thead th {\n",
       "        text-align: right;\n",
       "    }\n",
       "</style>\n",
       "<table border=\"1\" class=\"dataframe\">\n",
       "  <thead>\n",
       "    <tr style=\"text-align: right;\">\n",
       "      <th></th>\n",
       "      <th>review_id</th>\n",
       "      <th>star_rating</th>\n",
       "      <th>helpful_votes</th>\n",
       "      <th>total_votes</th>\n",
       "      <th>vine</th>\n",
       "      <th>verified_purchase</th>\n",
       "    </tr>\n",
       "  </thead>\n",
       "  <tbody>\n",
       "    <tr>\n",
       "      <th>218</th>\n",
       "      <td>R37F42INKX7L9K</td>\n",
       "      <td>5</td>\n",
       "      <td>45</td>\n",
       "      <td>49</td>\n",
       "      <td>N</td>\n",
       "      <td>Y</td>\n",
       "    </tr>\n",
       "    <tr>\n",
       "      <th>557</th>\n",
       "      <td>R2EHKYNEP8WVSR</td>\n",
       "      <td>5</td>\n",
       "      <td>25</td>\n",
       "      <td>25</td>\n",
       "      <td>N</td>\n",
       "      <td>Y</td>\n",
       "    </tr>\n",
       "    <tr>\n",
       "      <th>560</th>\n",
       "      <td>RXOS7BHID0UHL</td>\n",
       "      <td>5</td>\n",
       "      <td>16</td>\n",
       "      <td>27</td>\n",
       "      <td>N</td>\n",
       "      <td>N</td>\n",
       "    </tr>\n",
       "    <tr>\n",
       "      <th>909</th>\n",
       "      <td>R33HHGFPB403GM</td>\n",
       "      <td>5</td>\n",
       "      <td>19</td>\n",
       "      <td>21</td>\n",
       "      <td>N</td>\n",
       "      <td>Y</td>\n",
       "    </tr>\n",
       "    <tr>\n",
       "      <th>1232</th>\n",
       "      <td>RY9O9XNLP464N</td>\n",
       "      <td>2</td>\n",
       "      <td>19</td>\n",
       "      <td>22</td>\n",
       "      <td>N</td>\n",
       "      <td>Y</td>\n",
       "    </tr>\n",
       "    <tr>\n",
       "      <th>2069</th>\n",
       "      <td>R2VP11C28JAEZF</td>\n",
       "      <td>5</td>\n",
       "      <td>30</td>\n",
       "      <td>30</td>\n",
       "      <td>N</td>\n",
       "      <td>Y</td>\n",
       "    </tr>\n",
       "    <tr>\n",
       "      <th>2256</th>\n",
       "      <td>R1TXGR1HA2M3P3</td>\n",
       "      <td>5</td>\n",
       "      <td>28</td>\n",
       "      <td>29</td>\n",
       "      <td>N</td>\n",
       "      <td>Y</td>\n",
       "    </tr>\n",
       "    <tr>\n",
       "      <th>2386</th>\n",
       "      <td>R6OD85TMEMHQQ</td>\n",
       "      <td>5</td>\n",
       "      <td>28</td>\n",
       "      <td>28</td>\n",
       "      <td>N</td>\n",
       "      <td>Y</td>\n",
       "    </tr>\n",
       "    <tr>\n",
       "      <th>3073</th>\n",
       "      <td>R1G4PAJXP3FTN7</td>\n",
       "      <td>2</td>\n",
       "      <td>43</td>\n",
       "      <td>51</td>\n",
       "      <td>N</td>\n",
       "      <td>Y</td>\n",
       "    </tr>\n",
       "    <tr>\n",
       "      <th>3329</th>\n",
       "      <td>R2P2S8UGUMCOLX</td>\n",
       "      <td>5</td>\n",
       "      <td>21</td>\n",
       "      <td>22</td>\n",
       "      <td>N</td>\n",
       "      <td>Y</td>\n",
       "    </tr>\n",
       "    <tr>\n",
       "      <th>3698</th>\n",
       "      <td>RBTQKXGJ9RP7C</td>\n",
       "      <td>1</td>\n",
       "      <td>33</td>\n",
       "      <td>33</td>\n",
       "      <td>N</td>\n",
       "      <td>Y</td>\n",
       "    </tr>\n",
       "    <tr>\n",
       "      <th>3842</th>\n",
       "      <td>R342L93CXGDZO5</td>\n",
       "      <td>2</td>\n",
       "      <td>73</td>\n",
       "      <td>76</td>\n",
       "      <td>N</td>\n",
       "      <td>Y</td>\n",
       "    </tr>\n",
       "    <tr>\n",
       "      <th>3894</th>\n",
       "      <td>R31Z97KFD4HMNF</td>\n",
       "      <td>3</td>\n",
       "      <td>23</td>\n",
       "      <td>26</td>\n",
       "      <td>N</td>\n",
       "      <td>Y</td>\n",
       "    </tr>\n",
       "    <tr>\n",
       "      <th>3927</th>\n",
       "      <td>R2NDB7EQLYK87A</td>\n",
       "      <td>5</td>\n",
       "      <td>44</td>\n",
       "      <td>46</td>\n",
       "      <td>N</td>\n",
       "      <td>Y</td>\n",
       "    </tr>\n",
       "    <tr>\n",
       "      <th>4143</th>\n",
       "      <td>R1C0W0OSBCVXC2</td>\n",
       "      <td>1</td>\n",
       "      <td>45</td>\n",
       "      <td>46</td>\n",
       "      <td>N</td>\n",
       "      <td>Y</td>\n",
       "    </tr>\n",
       "  </tbody>\n",
       "</table>\n",
       "</div>"
      ],
      "text/plain": [
       "           review_id  star_rating  helpful_votes  total_votes vine  \\\n",
       "218   R37F42INKX7L9K            5             45           49    N   \n",
       "557   R2EHKYNEP8WVSR            5             25           25    N   \n",
       "560    RXOS7BHID0UHL            5             16           27    N   \n",
       "909   R33HHGFPB403GM            5             19           21    N   \n",
       "1232   RY9O9XNLP464N            2             19           22    N   \n",
       "2069  R2VP11C28JAEZF            5             30           30    N   \n",
       "2256  R1TXGR1HA2M3P3            5             28           29    N   \n",
       "2386   R6OD85TMEMHQQ            5             28           28    N   \n",
       "3073  R1G4PAJXP3FTN7            2             43           51    N   \n",
       "3329  R2P2S8UGUMCOLX            5             21           22    N   \n",
       "3698   RBTQKXGJ9RP7C            1             33           33    N   \n",
       "3842  R342L93CXGDZO5            2             73           76    N   \n",
       "3894  R31Z97KFD4HMNF            3             23           26    N   \n",
       "3927  R2NDB7EQLYK87A            5             44           46    N   \n",
       "4143  R1C0W0OSBCVXC2            1             45           46    N   \n",
       "\n",
       "     verified_purchase  \n",
       "218                  Y  \n",
       "557                  Y  \n",
       "560                  N  \n",
       "909                  Y  \n",
       "1232                 Y  \n",
       "2069                 Y  \n",
       "2256                 Y  \n",
       "2386                 Y  \n",
       "3073                 Y  \n",
       "3329                 Y  \n",
       "3698                 Y  \n",
       "3842                 Y  \n",
       "3894                 Y  \n",
       "3927                 Y  \n",
       "4143                 Y  "
      ]
     },
     "execution_count": 6,
     "metadata": {},
     "output_type": "execute_result"
    }
   ],
   "source": [
    "more_than_20.head(15)"
   ]
  },
  {
   "cell_type": "code",
   "execution_count": 9,
   "id": "e325993e",
   "metadata": {},
   "outputs": [
    {
     "data": {
      "text/plain": [
       "review_id            27884\n",
       "star_rating          27884\n",
       "helpful_votes        27884\n",
       "total_votes          27884\n",
       "vine                 27884\n",
       "verified_purchase    27884\n",
       "dtype: int64"
      ]
     },
     "execution_count": 9,
     "metadata": {},
     "output_type": "execute_result"
    }
   ],
   "source": [
    "more_than_20.count()"
   ]
  },
  {
   "cell_type": "code",
   "execution_count": 11,
   "id": "0b814dbd",
   "metadata": {},
   "outputs": [],
   "source": [
    "step2 = more_than_20.loc[df[\"helpful_votes\"] / df[\"total_votes\"] >= 0.5]\n"
   ]
  },
  {
   "cell_type": "code",
   "execution_count": 12,
   "id": "bc0ebd70",
   "metadata": {},
   "outputs": [
    {
     "data": {
      "text/html": [
       "<div>\n",
       "<style scoped>\n",
       "    .dataframe tbody tr th:only-of-type {\n",
       "        vertical-align: middle;\n",
       "    }\n",
       "\n",
       "    .dataframe tbody tr th {\n",
       "        vertical-align: top;\n",
       "    }\n",
       "\n",
       "    .dataframe thead th {\n",
       "        text-align: right;\n",
       "    }\n",
       "</style>\n",
       "<table border=\"1\" class=\"dataframe\">\n",
       "  <thead>\n",
       "    <tr style=\"text-align: right;\">\n",
       "      <th></th>\n",
       "      <th>review_id</th>\n",
       "      <th>star_rating</th>\n",
       "      <th>helpful_votes</th>\n",
       "      <th>total_votes</th>\n",
       "      <th>vine</th>\n",
       "      <th>verified_purchase</th>\n",
       "    </tr>\n",
       "  </thead>\n",
       "  <tbody>\n",
       "    <tr>\n",
       "      <th>218</th>\n",
       "      <td>R37F42INKX7L9K</td>\n",
       "      <td>5</td>\n",
       "      <td>45</td>\n",
       "      <td>49</td>\n",
       "      <td>N</td>\n",
       "      <td>Y</td>\n",
       "    </tr>\n",
       "    <tr>\n",
       "      <th>557</th>\n",
       "      <td>R2EHKYNEP8WVSR</td>\n",
       "      <td>5</td>\n",
       "      <td>25</td>\n",
       "      <td>25</td>\n",
       "      <td>N</td>\n",
       "      <td>Y</td>\n",
       "    </tr>\n",
       "    <tr>\n",
       "      <th>560</th>\n",
       "      <td>RXOS7BHID0UHL</td>\n",
       "      <td>5</td>\n",
       "      <td>16</td>\n",
       "      <td>27</td>\n",
       "      <td>N</td>\n",
       "      <td>N</td>\n",
       "    </tr>\n",
       "    <tr>\n",
       "      <th>909</th>\n",
       "      <td>R33HHGFPB403GM</td>\n",
       "      <td>5</td>\n",
       "      <td>19</td>\n",
       "      <td>21</td>\n",
       "      <td>N</td>\n",
       "      <td>Y</td>\n",
       "    </tr>\n",
       "    <tr>\n",
       "      <th>1232</th>\n",
       "      <td>RY9O9XNLP464N</td>\n",
       "      <td>2</td>\n",
       "      <td>19</td>\n",
       "      <td>22</td>\n",
       "      <td>N</td>\n",
       "      <td>Y</td>\n",
       "    </tr>\n",
       "  </tbody>\n",
       "</table>\n",
       "</div>"
      ],
      "text/plain": [
       "           review_id  star_rating  helpful_votes  total_votes vine  \\\n",
       "218   R37F42INKX7L9K            5             45           49    N   \n",
       "557   R2EHKYNEP8WVSR            5             25           25    N   \n",
       "560    RXOS7BHID0UHL            5             16           27    N   \n",
       "909   R33HHGFPB403GM            5             19           21    N   \n",
       "1232   RY9O9XNLP464N            2             19           22    N   \n",
       "\n",
       "     verified_purchase  \n",
       "218                  Y  \n",
       "557                  Y  \n",
       "560                  N  \n",
       "909                  Y  \n",
       "1232                 Y  "
      ]
     },
     "execution_count": 12,
     "metadata": {},
     "output_type": "execute_result"
    }
   ],
   "source": [
    "step2.head()"
   ]
  },
  {
   "cell_type": "code",
   "execution_count": 13,
   "id": "9421cd89",
   "metadata": {},
   "outputs": [
    {
     "data": {
      "text/plain": [
       "review_id            27009\n",
       "star_rating          27009\n",
       "helpful_votes        27009\n",
       "total_votes          27009\n",
       "vine                 27009\n",
       "verified_purchase    27009\n",
       "dtype: int64"
      ]
     },
     "execution_count": 13,
     "metadata": {},
     "output_type": "execute_result"
    }
   ],
   "source": [
    "step2.count()"
   ]
  },
  {
   "cell_type": "code",
   "execution_count": 18,
   "id": "75619258",
   "metadata": {},
   "outputs": [],
   "source": [
    "step3Y = step2.loc[df[\"vine\"] == 'Y']"
   ]
  },
  {
   "cell_type": "code",
   "execution_count": 19,
   "id": "3860d212",
   "metadata": {},
   "outputs": [
    {
     "data": {
      "text/html": [
       "<div>\n",
       "<style scoped>\n",
       "    .dataframe tbody tr th:only-of-type {\n",
       "        vertical-align: middle;\n",
       "    }\n",
       "\n",
       "    .dataframe tbody tr th {\n",
       "        vertical-align: top;\n",
       "    }\n",
       "\n",
       "    .dataframe thead th {\n",
       "        text-align: right;\n",
       "    }\n",
       "</style>\n",
       "<table border=\"1\" class=\"dataframe\">\n",
       "  <thead>\n",
       "    <tr style=\"text-align: right;\">\n",
       "      <th></th>\n",
       "      <th>review_id</th>\n",
       "      <th>star_rating</th>\n",
       "      <th>helpful_votes</th>\n",
       "      <th>total_votes</th>\n",
       "      <th>vine</th>\n",
       "      <th>verified_purchase</th>\n",
       "    </tr>\n",
       "  </thead>\n",
       "  <tbody>\n",
       "    <tr>\n",
       "      <th>270349</th>\n",
       "      <td>R2N45ZKRRZS856</td>\n",
       "      <td>5</td>\n",
       "      <td>21</td>\n",
       "      <td>22</td>\n",
       "      <td>Y</td>\n",
       "      <td>N</td>\n",
       "    </tr>\n",
       "    <tr>\n",
       "      <th>306676</th>\n",
       "      <td>R5OMLMK13A8NS</td>\n",
       "      <td>5</td>\n",
       "      <td>34</td>\n",
       "      <td>38</td>\n",
       "      <td>Y</td>\n",
       "      <td>N</td>\n",
       "    </tr>\n",
       "    <tr>\n",
       "      <th>1050160</th>\n",
       "      <td>R2MPEQ4SPTEQNS</td>\n",
       "      <td>4</td>\n",
       "      <td>180</td>\n",
       "      <td>184</td>\n",
       "      <td>Y</td>\n",
       "      <td>N</td>\n",
       "    </tr>\n",
       "    <tr>\n",
       "      <th>1224726</th>\n",
       "      <td>RIR0D3KJ0CQ31</td>\n",
       "      <td>4</td>\n",
       "      <td>21</td>\n",
       "      <td>21</td>\n",
       "      <td>Y</td>\n",
       "      <td>N</td>\n",
       "    </tr>\n",
       "    <tr>\n",
       "      <th>1231743</th>\n",
       "      <td>R1SPWJDHUWWC5E</td>\n",
       "      <td>5</td>\n",
       "      <td>88</td>\n",
       "      <td>98</td>\n",
       "      <td>Y</td>\n",
       "      <td>N</td>\n",
       "    </tr>\n",
       "  </tbody>\n",
       "</table>\n",
       "</div>"
      ],
      "text/plain": [
       "              review_id  star_rating  helpful_votes  total_votes vine  \\\n",
       "270349   R2N45ZKRRZS856            5             21           22    Y   \n",
       "306676    R5OMLMK13A8NS            5             34           38    Y   \n",
       "1050160  R2MPEQ4SPTEQNS            4            180          184    Y   \n",
       "1224726   RIR0D3KJ0CQ31            4             21           21    Y   \n",
       "1231743  R1SPWJDHUWWC5E            5             88           98    Y   \n",
       "\n",
       "        verified_purchase  \n",
       "270349                  N  \n",
       "306676                  N  \n",
       "1050160                 N  \n",
       "1224726                 N  \n",
       "1231743                 N  "
      ]
     },
     "execution_count": 19,
     "metadata": {},
     "output_type": "execute_result"
    }
   ],
   "source": [
    "step3Y.head()"
   ]
  },
  {
   "cell_type": "code",
   "execution_count": 20,
   "id": "b0dfbf11",
   "metadata": {},
   "outputs": [
    {
     "data": {
      "text/plain": [
       "review_id            22\n",
       "star_rating          22\n",
       "helpful_votes        22\n",
       "total_votes          22\n",
       "vine                 22\n",
       "verified_purchase    22\n",
       "dtype: int64"
      ]
     },
     "execution_count": 20,
     "metadata": {},
     "output_type": "execute_result"
    }
   ],
   "source": [
    "step3Y.count()"
   ]
  },
  {
   "cell_type": "code",
   "execution_count": 21,
   "id": "67025031",
   "metadata": {},
   "outputs": [],
   "source": [
    "step3N = step2.loc[df[\"vine\"] == 'N']"
   ]
  },
  {
   "cell_type": "code",
   "execution_count": 22,
   "id": "7274fc41",
   "metadata": {},
   "outputs": [
    {
     "data": {
      "text/html": [
       "<div>\n",
       "<style scoped>\n",
       "    .dataframe tbody tr th:only-of-type {\n",
       "        vertical-align: middle;\n",
       "    }\n",
       "\n",
       "    .dataframe tbody tr th {\n",
       "        vertical-align: top;\n",
       "    }\n",
       "\n",
       "    .dataframe thead th {\n",
       "        text-align: right;\n",
       "    }\n",
       "</style>\n",
       "<table border=\"1\" class=\"dataframe\">\n",
       "  <thead>\n",
       "    <tr style=\"text-align: right;\">\n",
       "      <th></th>\n",
       "      <th>review_id</th>\n",
       "      <th>star_rating</th>\n",
       "      <th>helpful_votes</th>\n",
       "      <th>total_votes</th>\n",
       "      <th>vine</th>\n",
       "      <th>verified_purchase</th>\n",
       "    </tr>\n",
       "  </thead>\n",
       "  <tbody>\n",
       "    <tr>\n",
       "      <th>218</th>\n",
       "      <td>R37F42INKX7L9K</td>\n",
       "      <td>5</td>\n",
       "      <td>45</td>\n",
       "      <td>49</td>\n",
       "      <td>N</td>\n",
       "      <td>Y</td>\n",
       "    </tr>\n",
       "    <tr>\n",
       "      <th>557</th>\n",
       "      <td>R2EHKYNEP8WVSR</td>\n",
       "      <td>5</td>\n",
       "      <td>25</td>\n",
       "      <td>25</td>\n",
       "      <td>N</td>\n",
       "      <td>Y</td>\n",
       "    </tr>\n",
       "    <tr>\n",
       "      <th>560</th>\n",
       "      <td>RXOS7BHID0UHL</td>\n",
       "      <td>5</td>\n",
       "      <td>16</td>\n",
       "      <td>27</td>\n",
       "      <td>N</td>\n",
       "      <td>N</td>\n",
       "    </tr>\n",
       "    <tr>\n",
       "      <th>909</th>\n",
       "      <td>R33HHGFPB403GM</td>\n",
       "      <td>5</td>\n",
       "      <td>19</td>\n",
       "      <td>21</td>\n",
       "      <td>N</td>\n",
       "      <td>Y</td>\n",
       "    </tr>\n",
       "    <tr>\n",
       "      <th>1232</th>\n",
       "      <td>RY9O9XNLP464N</td>\n",
       "      <td>2</td>\n",
       "      <td>19</td>\n",
       "      <td>22</td>\n",
       "      <td>N</td>\n",
       "      <td>Y</td>\n",
       "    </tr>\n",
       "  </tbody>\n",
       "</table>\n",
       "</div>"
      ],
      "text/plain": [
       "           review_id  star_rating  helpful_votes  total_votes vine  \\\n",
       "218   R37F42INKX7L9K            5             45           49    N   \n",
       "557   R2EHKYNEP8WVSR            5             25           25    N   \n",
       "560    RXOS7BHID0UHL            5             16           27    N   \n",
       "909   R33HHGFPB403GM            5             19           21    N   \n",
       "1232   RY9O9XNLP464N            2             19           22    N   \n",
       "\n",
       "     verified_purchase  \n",
       "218                  Y  \n",
       "557                  Y  \n",
       "560                  N  \n",
       "909                  Y  \n",
       "1232                 Y  "
      ]
     },
     "execution_count": 22,
     "metadata": {},
     "output_type": "execute_result"
    }
   ],
   "source": [
    "step3N.head()"
   ]
  },
  {
   "cell_type": "code",
   "execution_count": 23,
   "id": "cb6c1065",
   "metadata": {},
   "outputs": [
    {
     "data": {
      "text/plain": [
       "review_id            26987\n",
       "star_rating          26987\n",
       "helpful_votes        26987\n",
       "total_votes          26987\n",
       "vine                 26987\n",
       "verified_purchase    26987\n",
       "dtype: int64"
      ]
     },
     "execution_count": 23,
     "metadata": {},
     "output_type": "execute_result"
    }
   ],
   "source": [
    "step3N.count()"
   ]
  },
  {
   "cell_type": "code",
   "execution_count": null,
   "id": "479eb99c",
   "metadata": {},
   "outputs": [],
   "source": []
  }
 ],
 "metadata": {
  "kernelspec": {
   "display_name": "PythonData",
   "language": "python",
   "name": "pythondata"
  },
  "language_info": {
   "codemirror_mode": {
    "name": "ipython",
    "version": 3
   },
   "file_extension": ".py",
   "mimetype": "text/x-python",
   "name": "python",
   "nbconvert_exporter": "python",
   "pygments_lexer": "ipython3",
   "version": "3.7.13"
  }
 },
 "nbformat": 4,
 "nbformat_minor": 5
}
